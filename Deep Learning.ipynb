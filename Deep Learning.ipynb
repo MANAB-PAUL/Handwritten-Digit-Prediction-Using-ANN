{
 "cells": [
  {
   "cell_type": "markdown",
   "id": "f277c54e",
   "metadata": {},
   "source": [
    "# HandWritten Image detection"
   ]
  },
  {
   "cell_type": "code",
   "execution_count": 1,
   "id": "4832d1e6",
   "metadata": {},
   "outputs": [],
   "source": [
    "import tensorflow as tf\n",
    "from tensorflow import keras\n",
    "import matplotlib.pyplot as plt\n",
    "import numpy as np"
   ]
  },
  {
   "cell_type": "code",
   "execution_count": 2,
   "id": "39f4cc7a",
   "metadata": {},
   "outputs": [],
   "source": [
    "(X_train, Y_train), (X_test, Y_test) = keras.datasets.mnist.load_data()"
   ]
  },
  {
   "cell_type": "code",
   "execution_count": 3,
   "id": "acb661a0",
   "metadata": {},
   "outputs": [
    {
     "data": {
      "text/plain": [
       "(60000, 28, 28)"
      ]
     },
     "execution_count": 3,
     "metadata": {},
     "output_type": "execute_result"
    }
   ],
   "source": [
    "X_train.shape"
   ]
  },
  {
   "cell_type": "code",
   "execution_count": 4,
   "id": "b85d5a41",
   "metadata": {},
   "outputs": [],
   "source": [
    "x_train_flattened = X_train.reshape(60000, 28*28)"
   ]
  },
  {
   "cell_type": "code",
   "execution_count": 5,
   "id": "5ec923f0",
   "metadata": {},
   "outputs": [],
   "source": [
    "x_test_flattened = X_test.reshape(len(X_test), 28*28)"
   ]
  },
  {
   "cell_type": "code",
   "execution_count": 6,
   "id": "b6275de4",
   "metadata": {},
   "outputs": [],
   "source": [
    "###scaling"
   ]
  },
  {
   "cell_type": "code",
   "execution_count": 7,
   "id": "fc83ea63",
   "metadata": {},
   "outputs": [],
   "source": [
    "x_train_flattened = x_train_flattened / 255"
   ]
  },
  {
   "cell_type": "code",
   "execution_count": 8,
   "id": "18fa2d31",
   "metadata": {},
   "outputs": [],
   "source": [
    "### creating the model"
   ]
  },
  {
   "cell_type": "markdown",
   "id": "1a6776bd",
   "metadata": {},
   "source": [
    "### model with no hidden layers"
   ]
  },
  {
   "cell_type": "code",
   "execution_count": 9,
   "id": "aaa288bf",
   "metadata": {},
   "outputs": [
    {
     "name": "stdout",
     "output_type": "stream",
     "text": [
      "Epoch 1/30\n",
      "1875/1875 [==============================] - 4s 2ms/step - loss: 0.4653 - accuracy: 0.8784\n",
      "Epoch 2/30\n",
      "1875/1875 [==============================] - 3s 2ms/step - loss: 0.3041 - accuracy: 0.9151\n",
      "Epoch 3/30\n",
      "1875/1875 [==============================] - 3s 2ms/step - loss: 0.2832 - accuracy: 0.9204\n",
      "Epoch 4/30\n",
      "1875/1875 [==============================] - 3s 2ms/step - loss: 0.2734 - accuracy: 0.9238\n",
      "Epoch 5/30\n",
      "1875/1875 [==============================] - 3s 2ms/step - loss: 0.2666 - accuracy: 0.9257\n",
      "Epoch 6/30\n",
      "1875/1875 [==============================] - 4s 2ms/step - loss: 0.2619 - accuracy: 0.9268\n",
      "Epoch 7/30\n",
      "1875/1875 [==============================] - 4s 2ms/step - loss: 0.2582 - accuracy: 0.9277\n",
      "Epoch 8/30\n",
      "1875/1875 [==============================] - 4s 2ms/step - loss: 0.2553 - accuracy: 0.9290\n",
      "Epoch 9/30\n",
      "1875/1875 [==============================] - 4s 2ms/step - loss: 0.2531 - accuracy: 0.9300\n",
      "Epoch 10/30\n",
      "1875/1875 [==============================] - 4s 2ms/step - loss: 0.2506 - accuracy: 0.9310\n",
      "Epoch 11/30\n",
      "1875/1875 [==============================] - 4s 2ms/step - loss: 0.2491 - accuracy: 0.9315\n",
      "Epoch 12/30\n",
      "1875/1875 [==============================] - 4s 2ms/step - loss: 0.2478 - accuracy: 0.9312\n",
      "Epoch 13/30\n",
      "1875/1875 [==============================] - 4s 2ms/step - loss: 0.2470 - accuracy: 0.9320\n",
      "Epoch 14/30\n",
      "1875/1875 [==============================] - 4s 2ms/step - loss: 0.2449 - accuracy: 0.9328\n",
      "Epoch 15/30\n",
      "1875/1875 [==============================] - 4s 2ms/step - loss: 0.2441 - accuracy: 0.9329\n",
      "Epoch 16/30\n",
      "1875/1875 [==============================] - 4s 2ms/step - loss: 0.2427 - accuracy: 0.9331\n",
      "Epoch 17/30\n",
      "1875/1875 [==============================] - 4s 2ms/step - loss: 0.2420 - accuracy: 0.9337\n",
      "Epoch 18/30\n",
      "1875/1875 [==============================] - 4s 2ms/step - loss: 0.2409 - accuracy: 0.9337\n",
      "Epoch 19/30\n",
      "1875/1875 [==============================] - 4s 2ms/step - loss: 0.2403 - accuracy: 0.9339\n",
      "Epoch 20/30\n",
      "1875/1875 [==============================] - 4s 2ms/step - loss: 0.2393 - accuracy: 0.9342\n",
      "Epoch 21/30\n",
      "1875/1875 [==============================] - 4s 2ms/step - loss: 0.2394 - accuracy: 0.9341\n",
      "Epoch 22/30\n",
      "1875/1875 [==============================] - 4s 2ms/step - loss: 0.2385 - accuracy: 0.9342\n",
      "Epoch 23/30\n",
      "1875/1875 [==============================] - 4s 2ms/step - loss: 0.2377 - accuracy: 0.9338\n",
      "Epoch 24/30\n",
      "1875/1875 [==============================] - 4s 2ms/step - loss: 0.2370 - accuracy: 0.9337\n",
      "Epoch 25/30\n",
      "1875/1875 [==============================] - 7s 4ms/step - loss: 0.2363 - accuracy: 0.9342\n",
      "Epoch 26/30\n",
      "1875/1875 [==============================] - 6s 3ms/step - loss: 0.2362 - accuracy: 0.9356\n",
      "Epoch 27/30\n",
      "1875/1875 [==============================] - 4s 2ms/step - loss: 0.2353 - accuracy: 0.9348\n",
      "Epoch 28/30\n",
      "1875/1875 [==============================] - 4s 2ms/step - loss: 0.2351 - accuracy: 0.9348\n",
      "Epoch 29/30\n",
      "1875/1875 [==============================] - 4s 2ms/step - loss: 0.2348 - accuracy: 0.9354\n",
      "Epoch 30/30\n",
      "1875/1875 [==============================] - 4s 2ms/step - loss: 0.2345 - accuracy: 0.9356\n"
     ]
    },
    {
     "data": {
      "text/plain": [
       "<keras.callbacks.History at 0x1db7bc429d0>"
      ]
     },
     "execution_count": 9,
     "metadata": {},
     "output_type": "execute_result"
    }
   ],
   "source": [
    "### simple model with no hidden layers\n",
    "model = keras.Sequential([\n",
    "    keras.layers.Dense(10, input_shape = (784,), activation = 'sigmoid')\n",
    "]) ## 10 is the size of the output neuron and 784 is the input\n",
    "\n",
    "model.compile(\n",
    "    optimizer='adam',\n",
    "    loss='sparse_categorical_crossentropy',\n",
    "    metrics=['accuracy']\n",
    ")\n",
    "\n",
    "model.fit(x_train_flattened, Y_train, epochs=30)"
   ]
  },
  {
   "cell_type": "code",
   "execution_count": 10,
   "id": "716cf82d",
   "metadata": {},
   "outputs": [],
   "source": [
    "### testing on test dataset"
   ]
  },
  {
   "cell_type": "code",
   "execution_count": 11,
   "id": "0063fcf4",
   "metadata": {},
   "outputs": [],
   "source": [
    "x_test = x_test_flattened / 255"
   ]
  },
  {
   "cell_type": "code",
   "execution_count": 12,
   "id": "17c93419",
   "metadata": {},
   "outputs": [
    {
     "name": "stdout",
     "output_type": "stream",
     "text": [
      "313/313 [==============================] - 1s 2ms/step - loss: 0.2727 - accuracy: 0.9267\n"
     ]
    },
    {
     "data": {
      "text/plain": [
       "[0.27270883321762085, 0.9266999959945679]"
      ]
     },
     "execution_count": 12,
     "metadata": {},
     "output_type": "execute_result"
    }
   ],
   "source": [
    "model.evaluate(x_test, Y_test)"
   ]
  },
  {
   "cell_type": "code",
   "execution_count": 13,
   "id": "2b2a2e83",
   "metadata": {},
   "outputs": [
    {
     "name": "stdout",
     "output_type": "stream",
     "text": [
      "313/313 [==============================] - 1s 2ms/step\n"
     ]
    }
   ],
   "source": [
    "y_predicts = model.predict(x_test)  ### gives output of the prediction of the input dataset"
   ]
  },
  {
   "cell_type": "code",
   "execution_count": 14,
   "id": "a8b94d90",
   "metadata": {},
   "outputs": [],
   "source": [
    "y_predicts_val = []\n",
    "for i in y_predicts:\n",
    "    y_predicts_val.append(np.argmax(i))"
   ]
  },
  {
   "cell_type": "code",
   "execution_count": 15,
   "id": "b1adb13c",
   "metadata": {},
   "outputs": [
    {
     "data": {
      "text/plain": [
       "[7, 2, 1, 0, 4, 1, 4]"
      ]
     },
     "execution_count": 15,
     "metadata": {},
     "output_type": "execute_result"
    }
   ],
   "source": [
    "y_predicts_val[:7]    ### predicted values"
   ]
  },
  {
   "cell_type": "code",
   "execution_count": 16,
   "id": "12f9c070",
   "metadata": {},
   "outputs": [
    {
     "data": {
      "text/plain": [
       "array([7, 2, 1, 0, 4, 1, 4], dtype=uint8)"
      ]
     },
     "execution_count": 16,
     "metadata": {},
     "output_type": "execute_result"
    }
   ],
   "source": [
    "Y_test[:7]    ### actual values"
   ]
  },
  {
   "cell_type": "code",
   "execution_count": 17,
   "id": "d9b6d648",
   "metadata": {},
   "outputs": [
    {
     "name": "stdout",
     "output_type": "stream",
     "text": [
      "tf.Tensor(\n",
      "[[ 956    0    0    2    1    8    9    3    1    0]\n",
      " [   0 1116    4    2    0    2    4    2    5    0]\n",
      " [   4    9  925   17    8    3   13    9   41    3]\n",
      " [   3    0   17  929    1   21    3   10   20    6]\n",
      " [   1    2    6    3  918    0   10    7    8   27]\n",
      " [   7    3    1   38    9  781   16    5   29    3]\n",
      " [   9    3    7    1    7   12  916    1    2    0]\n",
      " [   1    8   21    7    4    1    0  949    4   33]\n",
      " [   7    8    6   22    8   33   11   10  861    8]\n",
      " [   8    8    2   11   26    7    0   23    8  916]], shape=(10, 10), dtype=int32)\n"
     ]
    }
   ],
   "source": [
    "### confusion matrix\n",
    "cm = tf.math.confusion_matrix(labels=Y_test, predictions = y_predicts_val)\n",
    "print(cm)"
   ]
  },
  {
   "cell_type": "markdown",
   "id": "5d2dff77",
   "metadata": {},
   "source": [
    "### model with 1 hidden layer"
   ]
  },
  {
   "cell_type": "code",
   "execution_count": 18,
   "id": "1351e09f",
   "metadata": {},
   "outputs": [
    {
     "name": "stdout",
     "output_type": "stream",
     "text": [
      "Epoch 1/5\n",
      "1875/1875 [==============================] - 7s 3ms/step - loss: 0.2892 - accuracy: 0.9202\n",
      "Epoch 2/5\n",
      "1875/1875 [==============================] - 6s 3ms/step - loss: 0.1302 - accuracy: 0.9616\n",
      "Epoch 3/5\n",
      "1875/1875 [==============================] - 6s 3ms/step - loss: 0.0933 - accuracy: 0.9727\n",
      "Epoch 4/5\n",
      "1875/1875 [==============================] - 6s 3ms/step - loss: 0.0716 - accuracy: 0.9789\n",
      "Epoch 5/5\n",
      "1875/1875 [==============================] - 6s 3ms/step - loss: 0.0585 - accuracy: 0.9823\n"
     ]
    },
    {
     "data": {
      "text/plain": [
       "<keras.callbacks.History at 0x1db7f3d8520>"
      ]
     },
     "execution_count": 18,
     "metadata": {},
     "output_type": "execute_result"
    }
   ],
   "source": [
    "\n",
    "model1 = keras.Sequential([\n",
    "    keras.layers.Dense(100, input_shape = (784,), activation = 'relu'),\n",
    "    keras.layers.Dense(10, activation = tf.nn.sigmoid)\n",
    "]) ## 10 is the size of the output neuron and 784 is the input\n",
    "\n",
    "model1.compile(\n",
    "    optimizer='adam',\n",
    "    loss='sparse_categorical_crossentropy',\n",
    "    metrics=['accuracy']\n",
    ")\n",
    "\n",
    "model1.fit(x_train_flattened, Y_train, epochs=5)"
   ]
  },
  {
   "cell_type": "code",
   "execution_count": 19,
   "id": "01654627",
   "metadata": {},
   "outputs": [
    {
     "name": "stdout",
     "output_type": "stream",
     "text": [
      "313/313 [==============================] - 1s 2ms/step - loss: 0.0761 - accuracy: 0.9770\n"
     ]
    },
    {
     "data": {
      "text/plain": [
       "[0.07607213407754898, 0.9769999980926514]"
      ]
     },
     "execution_count": 19,
     "metadata": {},
     "output_type": "execute_result"
    }
   ],
   "source": [
    "### evaluating\n",
    "model1.evaluate(x_test, Y_test)"
   ]
  },
  {
   "cell_type": "markdown",
   "id": "202c0776",
   "metadata": {},
   "source": [
    "### model with 2 hidden layers"
   ]
  },
  {
   "cell_type": "code",
   "execution_count": 20,
   "id": "9c3e0722",
   "metadata": {},
   "outputs": [
    {
     "name": "stdout",
     "output_type": "stream",
     "text": [
      "Epoch 1/5\n",
      "1875/1875 [==============================] - 6s 3ms/step - loss: 0.3034 - accuracy: 0.9108\n",
      "Epoch 2/5\n",
      "1875/1875 [==============================] - 5s 3ms/step - loss: 0.1434 - accuracy: 0.9570\n",
      "Epoch 3/5\n",
      "1875/1875 [==============================] - 6s 3ms/step - loss: 0.1049 - accuracy: 0.9680\n",
      "Epoch 4/5\n",
      "1875/1875 [==============================] - 6s 3ms/step - loss: 0.0842 - accuracy: 0.9738\n",
      "Epoch 5/5\n",
      "1875/1875 [==============================] - 5s 3ms/step - loss: 0.0689 - accuracy: 0.9782\n"
     ]
    },
    {
     "data": {
      "text/plain": [
       "<keras.callbacks.History at 0x1db7b9fdcd0>"
      ]
     },
     "execution_count": 20,
     "metadata": {},
     "output_type": "execute_result"
    }
   ],
   "source": [
    "model2 = keras.Sequential([\n",
    "    keras.layers.Dense(50, input_shape = (784,), activation = 'relu'),\n",
    "    keras.layers.Dense(50, activation = 'relu'),\n",
    "    keras.layers.Dense(10, activation = 'softmax')\n",
    "])\n",
    "\n",
    "model2.compile(\n",
    "    optimizer='adam',\n",
    "    loss='sparse_categorical_crossentropy',\n",
    "    metrics=['accuracy']\n",
    ")\n",
    "\n",
    "model2.fit(x_train_flattened, Y_train, epochs = 5)"
   ]
  },
  {
   "cell_type": "code",
   "execution_count": 21,
   "id": "99046949",
   "metadata": {},
   "outputs": [
    {
     "name": "stdout",
     "output_type": "stream",
     "text": [
      "313/313 [==============================] - 1s 2ms/step - loss: 0.0993 - accuracy: 0.9686\n"
     ]
    },
    {
     "data": {
      "text/plain": [
       "[0.09928522258996964, 0.9685999751091003]"
      ]
     },
     "execution_count": 21,
     "metadata": {},
     "output_type": "execute_result"
    }
   ],
   "source": [
    "model2.evaluate(x_test, Y_test)"
   ]
  },
  {
   "cell_type": "markdown",
   "id": "77aed822",
   "metadata": {},
   "source": [
    "# Matrix excersize "
   ]
  },
  {
   "cell_type": "markdown",
   "id": "2e289cc3",
   "metadata": {},
   "source": [
    "### excersize 1"
   ]
  },
  {
   "cell_type": "code",
   "execution_count": 22,
   "id": "1c29776c",
   "metadata": {},
   "outputs": [
    {
     "data": {
      "text/plain": [
       "array([[15000, 16500, 18750],\n",
       "       [ 5100,  5925,  7875],\n",
       "       [ 8250, 10500, 13500],\n",
       "       [ 6000,  6375,  6750]])"
      ]
     },
     "execution_count": 22,
     "metadata": {},
     "output_type": "execute_result"
    }
   ],
   "source": [
    "revenue_in_usd = np.array([[200, 220, 250], [68, 79, 105], [110, 140, 180], [80, 85, 90]])\n",
    "conversion_rate = 75\n",
    "\n",
    "revenew_in_inr = revenue_in_usd * conversion_rate\n",
    "revenew_in_inr"
   ]
  },
  {
   "cell_type": "markdown",
   "id": "0bc4455c",
   "metadata": {},
   "source": [
    "### excersize 2 "
   ]
  },
  {
   "cell_type": "code",
   "execution_count": 23,
   "id": "b522ccaf",
   "metadata": {},
   "outputs": [
    {
     "data": {
      "text/plain": [
       "array([1900, 2640, 1430])"
      ]
     },
     "execution_count": 23,
     "metadata": {},
     "output_type": "execute_result"
    }
   ],
   "source": [
    "units_sold = np.array([[50, 60, 25], [10, 13, 5], [40, 70, 52]])\n",
    "price_per_unit = np.array([20, 30, 15])\n",
    "\n",
    "total_price_per_month = np.dot(price_per_unit, units_sold)\n",
    "total_price_per_month"
   ]
  },
  {
   "cell_type": "code",
   "execution_count": 24,
   "id": "a92fcf4e",
   "metadata": {},
   "outputs": [
    {
     "data": {
      "text/plain": [
       "array([3175,  665, 3680])"
      ]
     },
     "execution_count": 24,
     "metadata": {},
     "output_type": "execute_result"
    }
   ],
   "source": [
    "total_price_per_flower = np.dot(price_per_unit, units_sold.T)\n",
    "total_price_per_flower"
   ]
  },
  {
   "cell_type": "markdown",
   "id": "aba3671e",
   "metadata": {},
   "source": [
    "# scalling\n"
   ]
  },
  {
   "cell_type": "code",
   "execution_count": 39,
   "id": "15f670e3",
   "metadata": {},
   "outputs": [],
   "source": [
    "class min_max_scalling:\n",
    "    def __init__(self, arr, new_min = 0, new_max = 1):\n",
    "        self.new_min, self.new_max = new_min, new_max\n",
    "        self.old_min, self.old_max = min(arr), max(arr)\n",
    "\n",
    "        self.new_arr = []\n",
    "        for i in range(len(arr)):\n",
    "            old_val = arr[i]\n",
    "            new_val = ((old_val - self.old_min) / (self.old_max - self.old_min) * (self.new_max - self.new_min)) + self.new_min\n",
    "            self.new_arr.append(new_val)\n",
    "        \n",
    "        self.new_arr = np.array(self.new_arr)\n",
    "    \n",
    "    def fitting(self):\n",
    "        return self.new_arr\n",
    "    \n",
    "    def descale(self, arr):\n",
    "        ret = []\n",
    "        for element in arr:\n",
    "            out_scale = element - self.new_min\n",
    "            out_scale = out_scale * (self.old_max - self.old_min)\n",
    "            out_scale = out_scale / (self.new_max - self.new_min)\n",
    "            out_scale = out_scale + self.old_min\n",
    "            \n",
    "            ret.append(out_scale)\n",
    "        \n",
    "        ret = np.array(ret)\n",
    "        return ret"
   ]
  },
  {
   "cell_type": "code",
   "execution_count": 40,
   "id": "1fc99be2",
   "metadata": {},
   "outputs": [
    {
     "data": {
      "text/plain": [
       "array([1.        , 0.45412844, 0.41284404, 0.7706422 , 0.        ,\n",
       "       0.05504587])"
      ]
     },
     "execution_count": 40,
     "metadata": {},
     "output_type": "execute_result"
    }
   ],
   "source": [
    "x = [128, 9, 0, 78, -90, -78]\n",
    "cs = min_max_scalling(x)\n",
    "arr = cs.fitting()\n",
    "arr"
   ]
  },
  {
   "cell_type": "code",
   "execution_count": 41,
   "id": "4fe147f7",
   "metadata": {},
   "outputs": [
    {
     "data": {
      "text/plain": [
       "array([ 1.28000000e+02,  8.99999992e+00,  7.20000003e-07,  7.79999996e+01,\n",
       "       -9.00000000e+01, -7.80000003e+01])"
      ]
     },
     "execution_count": 41,
     "metadata": {},
     "output_type": "execute_result"
    }
   ],
   "source": [
    "cs.descale([1.        , 0.45412844, 0.41284404, 0.7706422 , 0.        ,\n",
    "       0.05504587])"
   ]
  },
  {
   "cell_type": "code",
   "execution_count": null,
   "id": "2ec1a5cd",
   "metadata": {},
   "outputs": [],
   "source": []
  }
 ],
 "metadata": {
  "kernelspec": {
   "display_name": "Python 3 (ipykernel)",
   "language": "python",
   "name": "python3"
  },
  "language_info": {
   "codemirror_mode": {
    "name": "ipython",
    "version": 3
   },
   "file_extension": ".py",
   "mimetype": "text/x-python",
   "name": "python",
   "nbconvert_exporter": "python",
   "pygments_lexer": "ipython3",
   "version": "3.9.12"
  }
 },
 "nbformat": 4,
 "nbformat_minor": 5
}
